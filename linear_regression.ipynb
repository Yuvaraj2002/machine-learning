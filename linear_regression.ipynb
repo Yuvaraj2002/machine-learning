{
  "cells": [
    {
      "cell_type": "markdown",
      "metadata": {
        "colab_type": "text",
        "id": "view-in-github"
      },
      "source": [
        "<a href=\"https://colab.research.google.com/github/Yuvaraj2002/machine-learning/blob/main/linear_regression.ipynb\" target=\"_parent\"><img src=\"https://colab.research.google.com/assets/colab-badge.svg\" alt=\"Open In Colab\"/></a>"
      ]
    },
    {
      "cell_type": "code",
      "execution_count": null,
      "metadata": {
        "id": "03YkAwTKksHf"
      },
      "outputs": [],
      "source": [
        "import pandas as pd\n",
        "import numpy as np\n",
        "import matplotlib.pyplot as plt"
      ]
    },
    {
      "cell_type": "code",
      "execution_count": null,
      "metadata": {
        "colab": {
          "base_uri": "https://localhost:8080/",
          "height": 313
        },
        "id": "m1ciM7xKls5s",
        "outputId": "09b528a7-8b42-46a4-8ae1-c520d419f98b"
      },
      "outputs": [],
      "source": [
        "data = pd.read_csv('data.csv')\n",
        "data.head()"
      ]
    },
    {
      "cell_type": "code",
      "execution_count": null,
      "metadata": {
        "id": "D3OD_OIwl49W"
      },
      "outputs": [],
      "source": [
        "def lossFunction(m, b, points):\n",
        "  total_error = 0\n",
        "  for i in range(len(points)):\n",
        "    x = points.iloc[i].studytime\n",
        "    y = points.iloc[i].score\n",
        "    total_error += (y - (m * x + b)) ** 2\n",
        "  return total_error / float(len(points))\n",
        "\n",
        "def gradientDescent(m, b, points, learning_rate):\n",
        "  m_gradient = 0\n",
        "  b_gradient = 0\n",
        "  N = float(len(points))\n",
        "\n",
        "  for i in range(len(points)):\n",
        "    x = points.iloc[i].studytime\n",
        "    y = points.iloc[i].score\n",
        "    m_gradient += -(2/N) * x * (y - (m * x + b))\n",
        "    b_gradient += -(2/N) * (y - (m * x + b))\n",
        "\n",
        "    return  [m - (learning_rate * m_gradient), b - (learning_rate * b_gradient)]\n",
        "\n",
        "\n",
        "m = 0\n",
        "b = 0\n",
        "L = 0.0001\n",
        "epochs = 1000\n",
        "\n",
        "for i in range(epochs):\n",
        "  m, b = gradientDescent(m, b, data, L)\n",
        "\n",
        "print(m, b)\n",
        "plt.scatter(data.studytime, data.score, color='blue')\n",
        "plt.plot(list(range(20, 80)), [m*x + b for x in range(20, 80)], color=\"red\")\n",
        "plt.show()"
      ]
    },
    {
      "cell_type": "code",
      "execution_count": null,
      "metadata": {
        "id": "jzLmNrZLm4fX"
      },
      "outputs": [],
      "source": []
    }
  ],
  "metadata": {
    "colab": {
      "authorship_tag": "ABX9TyPyxxLNAymeD0VLIYUa/fQu",
      "include_colab_link": true,
      "provenance": []
    },
    "kernelspec": {
      "display_name": "Python 3",
      "name": "python3"
    },
    "language_info": {
      "name": "python"
    }
  },
  "nbformat": 4,
  "nbformat_minor": 0
}
